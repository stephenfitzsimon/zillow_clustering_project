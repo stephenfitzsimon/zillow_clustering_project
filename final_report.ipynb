{
 "cells": [
  {
   "cell_type": "markdown",
   "id": "5eec14f5",
   "metadata": {},
   "source": [
    "# Zillow Logerror Prediction\n",
    "\n",
    "## Key Takeaways\n",
    "\n",
    "\n",
    "\n",
    "## Contents"
   ]
  },
  {
   "cell_type": "code",
   "execution_count": 2,
   "id": "519fde06",
   "metadata": {},
   "outputs": [],
   "source": [
    "#imports"
   ]
  },
  {
   "cell_type": "markdown",
   "id": "60cc0589",
   "metadata": {},
   "source": [
    "## Introduction"
   ]
  },
  {
   "cell_type": "code",
   "execution_count": null,
   "id": "a77140b4",
   "metadata": {},
   "outputs": [],
   "source": []
  }
 ],
 "metadata": {
  "kernelspec": {
   "display_name": "Python 3 (ipykernel)",
   "language": "python",
   "name": "python3"
  },
  "language_info": {
   "codemirror_mode": {
    "name": "ipython",
    "version": 3
   },
   "file_extension": ".py",
   "mimetype": "text/x-python",
   "name": "python",
   "nbconvert_exporter": "python",
   "pygments_lexer": "ipython3",
   "version": "3.9.12"
  }
 },
 "nbformat": 4,
 "nbformat_minor": 5
}
